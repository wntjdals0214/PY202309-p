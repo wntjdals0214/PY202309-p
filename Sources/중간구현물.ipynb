{
 "cells": [
  {
   "cell_type": "code",
   "execution_count": 1,
   "id": "964b5c3c",
   "metadata": {},
   "outputs": [
    {
     "name": "stdout",
     "output_type": "stream",
     "text": [
      "지금부터 전염병(독감, 코로나, 결핵)의 감염 확률을 계산하기 위한 프로그램을 실행합니다.\n",
      "장소와 시간순으로 입력하며 시간은 한시간 단위로 입력해 주세요.\n",
      "입력은 오전 8시부터 시작하여 오후 10시까지 가능합니다.\n",
      "본인이 있었던 장소를 입력하세요: ㅁ\n",
      "머무른 시간을 입력하세요: 2\n",
      "본인이 있었던 장소를 입력하세요: ㅍ\n",
      "머무른 시간을 입력하세요: 3\n",
      "본인이 있었던 장소를 입력하세요: ㅁ\n",
      "머무른 시간을 입력하세요: 5\n",
      "본인이 있었던 장소를 입력하세요: ㄷ\n",
      "머무른 시간을 입력하세요: 3\n",
      "본인이 있었던 장소를 입력하세요: ㅎ\n",
      "머무른 시간을 입력하세요: 5\n",
      "오후 10시 이후의 장소와 시간은 삭제합니다.\n",
      "18\n",
      "['ㅁ', 'ㅁ', 'ㅍ', 'ㅍ', 'ㅍ', 'ㅁ', 'ㅁ', 'ㅁ', 'ㅁ', 'ㅁ', 'ㄷ', 'ㄷ', 'ㄷ', 'ㅎ', 'ㅎ', 'ㅎ', 'ㅎ', 'ㅎ']\n",
      "['ㅁ', 'ㅁ', 'ㅍ', 'ㅍ', 'ㅍ', 'ㅁ', 'ㅁ', 'ㅁ', 'ㅁ', 'ㅁ', 'ㄷ', 'ㄷ', 'ㄷ', 'ㅎ']\n",
      "다음 질문에 o,x로 대답해 주세요.\n",
      "독감에 걸린 상태입니까?: o\n",
      "코로나에 걸린 상태입니까?: o\n",
      "결핵에 걸린 상태입니까?: x\n",
      "o o x\n"
     ]
    }
   ],
   "source": [
    "print(\"지금부터 전염병(독감, 코로나, 결핵)의 감염 확률을 계산하기 위한 프로그램을 실행합니다.\")\n",
    "print(\"장소와 시간순으로 입력하며 시간은 한시간 단위로 입력해 주세요.\")\n",
    "print(\"입력은 오전 8시부터 시작하여 오후 10시까지 가능합니다.\")\n",
    "\n",
    "# Function 1\n",
    "infection = [] # 이동경로를 저장하기 위한 빈 리스트 생성\n",
    "i = 0\n",
    "while i<14:\n",
    "    route = str(input(\"본인이 있었던 장소를 입력하세요: \"))\n",
    "    hour = int(input(\"머무른 시간을 입력하세요: \"))\n",
    "    # 한번에 입력 가능한 시간을 초과 시\n",
    "    if hour >14:\n",
    "        print(\"입력 가능한 시간을 넘었습니다. 다시 입력해 주세요.\")\n",
    "        continue\n",
    "    for j in range(hour):\n",
    "        infection.append(route) # 리스트에 머무른 시간 수의 이동경로 추가\n",
    "    i += hour #머무른 시간만큼 i를 증가시킨다.\n",
    "# 리스트에 오후 10시 이후의 장소까지 저장되었을 경우\n",
    "if len(infection)> 14:\n",
    "    print(\"오후 10시 이후의 장소와 시간은 삭제합니다.\")\n",
    "print(i)\n",
    "print(infection) # 오후 10시 이후 삭제전 리스트\n",
    "del infection[14:] \n",
    "print(infection) # 오후 10시 이후 삭제후 리스트\n",
    "\n",
    "\n",
    "# Function 2\n",
    "print(\"다음 질문에 o,x로 대답해 주세요.\")\n",
    "flu_answer = str(input(\"독감에 걸린 상태입니까?: \"))\n",
    "corona_answer = str(input(\"코로나에 걸린 상태입니까?: \"))\n",
    "tuber_answer = str(input(\"결핵에 걸린 상태입니까?: \"))\n",
    "print(flu_answer, corona_answer, tuber_answer)"
   ]
  },
  {
   "cell_type": "code",
   "execution_count": null,
   "id": "7083eb65",
   "metadata": {},
   "outputs": [],
   "source": []
  }
 ],
 "metadata": {
  "kernelspec": {
   "display_name": "Python 3 (ipykernel)",
   "language": "python",
   "name": "python3"
  },
  "language_info": {
   "codemirror_mode": {
    "name": "ipython",
    "version": 3
   },
   "file_extension": ".py",
   "mimetype": "text/x-python",
   "name": "python",
   "nbconvert_exporter": "python",
   "pygments_lexer": "ipython3",
   "version": "3.10.9"
  }
 },
 "nbformat": 4,
 "nbformat_minor": 5
}
