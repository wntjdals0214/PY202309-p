{
 "cells": [
  {
   "cell_type": "code",
   "execution_count": null,
   "id": "3440f20b",
   "metadata": {},
   "outputs": [],
   "source": [
    "#function 3-1 1차 감염에 대한 확률계산\n",
    "def calculate_1st_percentage(infection, disease_list):\n",
    "    conflict_hour = 0 # 겹치는 시간\n",
    "    infection_percentage = 0 # 감염확률\n",
    "    for infecter in disease_list:\n",
    "        for j in range(14):\n",
    "            if infection[j] == infecter[j]: # 이용자와 각 감염자의 같은 시간의 이동경로를 비교\n",
    "                conflict_hour += 1\n",
    "    infection_percentage += conflict_hour * 0.3 #확률계산\n",
    "    print(infection_percentage)\n",
    "    return infection_percentage\n",
    "#function 3-2 2차 감염에 대한 확률계산\n",
    "def calculate_2nd_percentage(infect_percent, main_disease, compare_disease1, compare_disease2):\n",
    "    disease1_conflict_hour = 0 # main 질병 감염자와 disease1 감염자가 겹치는 시간\n",
    "    disease2_conflict_hour = 0 # main 질병 감염자와 disease2 감염자가 겹치는 시간\n",
    "    infection_percentage1 = 0 # disease1 감염자가 main 질병의 감염 되었을 확률\n",
    "    infection_percentage2 = 0 # disease2 감염자가 main 질병의 감염 되었을 확률\n",
    "    for infect in main_disease:\n",
    "        for suspected_infect in compare_disease1:\n",
    "            for i in range(14):\n",
    "                if infect[i]==suspected_infect[i]: # main 질병 감염자와 disease1 감염자의 같은 시간의 이동경로를 비교\n",
    "                    disease1_conflict_hour += 1 \n",
    "        # disease1 감염자의 main 질병 감염확률과 이용자의 main 잘병확률을 곱하여 이용자의 diseease1 감염자를 통한 main 질병의 2차 감염확률을 계산\n",
    "        infection_percentage1 += infect_percent * 0.01 * disease1_conflict_hour * 0.2 # 이용자의 2차감염 확률계산\n",
    "        print(infection_percentage1)\n",
    "        for suspected_infect in compare_disease2:\n",
    "            for i in range(14):\n",
    "                if infect[i]==suspected_infect[i]:\n",
    "                    disease2_conflict_hour += 1\n",
    "        # disease2 감염자의 main 질병 감염확률과 이용자의 main 잘병확률을 곱하여 이용자의 diseease2 감염자를 통한 main 질병의 2차 감염확률을 계산\n",
    "        infection_percentage2 += infect_percent * 0.01 * disease2_conflict_hour * 0.2 # 이용자의 2차감염 확률계산\n",
    "        print(infection_percentage2)\n",
    "    return infection_percentage1 + infection_percentage2 # 두 확률을 더하여 최종 2차 감염 확률을 계산한다.\n",
    "    \n",
    "    \n"
   ]
  }
 ],
 "metadata": {
  "kernelspec": {
   "display_name": "Python 3 (ipykernel)",
   "language": "python",
   "name": "python3"
  },
  "language_info": {
   "codemirror_mode": {
    "name": "ipython",
    "version": 3
   },
   "file_extension": ".py",
   "mimetype": "text/x-python",
   "name": "python",
   "nbconvert_exporter": "python",
   "pygments_lexer": "ipython3",
   "version": "3.10.9"
  }
 },
 "nbformat": 4,
 "nbformat_minor": 5
}
