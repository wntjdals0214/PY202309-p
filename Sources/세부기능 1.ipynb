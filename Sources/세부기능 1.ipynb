{
 "cells": [
  {
   "cell_type": "code",
   "execution_count": 9,
   "id": "9426153b",
   "metadata": {},
   "outputs": [
    {
     "name": "stdout",
     "output_type": "stream",
     "text": [
      "지금부터 전염병(독감, 코로나, 결핵)의 감염 확률을 계산하기 위한 프로그램을 실행합니다.\n",
      "장소와 시간순으로 입력하며 시간은 한시간 단위로 입력해 주세요.\n",
      "입력은 오전 8시부터 시작하여 오후 10시까지 가능합니다.\n",
      "본인이 있었던 장소를 입력하세요: a\n",
      "머무른 시간을 입력하세요: 5\n",
      "본인이 있었던 장소를 입력하세요: b\n",
      "머무른 시간을 입력하세요: 4\n",
      "본인이 있었던 장소를 입력하세요: c\n",
      "머무른 시간을 입력하세요: 3\n",
      "본인이 있었던 장소를 입력하세요: d\n",
      "머무른 시간을 입력하세요: 7\n",
      "오후 10시 이후의 장소와 시간은 삭제합니다.\n",
      "19\n",
      "['a', 'a', 'a', 'a', 'a', 'b', 'b', 'b', 'b', 'c', 'c', 'c', 'd', 'd', 'd', 'd', 'd', 'd', 'd']\n",
      "['a', 'a', 'a', 'a', 'a', 'b', 'b', 'b', 'b', 'c', 'c', 'c', 'd', 'd']\n"
     ]
    }
   ],
   "source": [
    "print(\"지금부터 전염병(독감, 코로나, 결핵)의 감염 확률을 계산하기 위한 프로그램을 실행합니다.\")\n",
    "print(\"장소와 시간순으로 입력하며 시간은 한시간 단위로 입력해 주세요.\")\n",
    "print(\"입력은 오전 8시부터 시작하여 오후 10시까지 가능합니다.\")\n",
    "\n",
    "infection = []\n",
    "i = 0\n",
    "while i<14:\n",
    "    route = str(input(\"본인이 있었던 장소를 입력하세요: \"))\n",
    "    hour = int(input(\"머무른 시간을 입력하세요: \"))\n",
    "    if hour >14:\n",
    "        print(\"입력 가능한 시간을 넘었습니다. 다시 입력해 주세요.\")\n",
    "        continue\n",
    "    for j in range(hour):\n",
    "        infection.append(route)\n",
    "    i += hour\n",
    "if len(infection)> 14:\n",
    "    print(\"오후 10시 이후의 장소와 시간은 삭제합니다.\")\n",
    "print(i)\n",
    "print(infection)\n",
    "del infection[14:]\n",
    "print(infection)"
   ]
  },
  {
   "cell_type": "code",
   "execution_count": null,
   "id": "c40c9e07",
   "metadata": {},
   "outputs": [],
   "source": []
  },
  {
   "cell_type": "code",
   "execution_count": null,
   "id": "47ab2dc2",
   "metadata": {},
   "outputs": [],
   "source": []
  },
  {
   "cell_type": "code",
   "execution_count": null,
   "id": "5fc152c3",
   "metadata": {},
   "outputs": [],
   "source": []
  }
 ],
 "metadata": {
  "kernelspec": {
   "display_name": "Python 3 (ipykernel)",
   "language": "python",
   "name": "python3"
  },
  "language_info": {
   "codemirror_mode": {
    "name": "ipython",
    "version": 3
   },
   "file_extension": ".py",
   "mimetype": "text/x-python",
   "name": "python",
   "nbconvert_exporter": "python",
   "pygments_lexer": "ipython3",
   "version": "3.10.9"
  }
 },
 "nbformat": 4,
 "nbformat_minor": 5
}
